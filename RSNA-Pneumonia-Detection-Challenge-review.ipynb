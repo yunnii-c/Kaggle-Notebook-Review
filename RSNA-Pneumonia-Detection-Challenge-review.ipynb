{
 "cells": [
  {
   "cell_type": "markdown",
   "metadata": {},
   "source": [
    "# RSNA Pneumonia Detection Challenge\n",
    "\n",
    "- Computer Vision / Image classification and object detection\n",
    "- Datasets : train(26684), test(3000)\n",
    "- Image type : CXR(x-ray) size : not uniform\n",
    "- Trained data single read / Test data triple read -> Annotation method resulted in smaller bounding boxes especially for complicated cases and test sets.\n",
    "- Stage 1 data, Stage 2 data"
   ]
  },
  {
   "cell_type": "markdown",
   "metadata": {},
   "source": [
    "## (D) Ian Pan : [1st place] Solution Overview & Code\n",
    "https://www.kaggle.com/c/rsna-pneumonia-detection-challenge/discussion/70421 <br>\n",
    "code : https://www.github.com/i-pan/kaggle-rsna18\n",
    "\n",
    "\n",
    "- For classification, ImageNet pre-trained networks on the NIH ChestX-ray14 dataset\n",
    "- We resized the lengths and widths of our final predictions by 87.5%\n",
    "- Used complex ensemble methods <br>\n",
    "- - Classification : <br>\n",
    "InceptionResNetV2 (2) (256), InceptionResNetV2 (2) (320) <br>\n",
    "InceptionResNetV2 (3) (256), InceptionResNetV2 (3) (320) <br>\n",
    "Xception (2) (384), Xception (2) (448) <br>\n",
    "Xception (3) (384), Xception (3) (448) <br>\n",
    "DenseNet169 (2) (512), DenseNet169 (3) (512) <br>\n",
    "- - Detection : <br>\n",
    "RetinaNet <br>\n",
    "Deformable R-FCN <br>\n",
    "Deformable Relation Networks <br>"
   ]
  },
  {
   "cell_type": "markdown",
   "metadata": {},
   "source": [
    "## (D) Dmytro Poplavskiy : 2nd place solution\n",
    "https://www.kaggle.com/c/rsna-pneumonia-detection-challenge/discussion/70427 : just explanations without codes\n",
    "\n",
    "\n",
    "### Data\n",
    "- Img Size : downscaled to 512x512 -> full resolution is not practical and 256 shows results of degradation\n",
    "- Training augmentation: Mild rotations (up to 6 deg), shift, scale, shear and h_flip, for some images random level of blur and noise and gamma changes.\n",
    "\n",
    "\n",
    "### Model\n",
    "- Model : Retinanet(much simpler, but similar outcome compared to Faster-RCNN like models or SSD) with se-resnext101(it worked the best, se-resnext50 slightly worse)\n",
    "- Cross validation : stratified 4 folds, and ensembled each fold\n",
    "- Added another classification output : 'No Lung Opacity but Not Normal', 'Normal', 'Lung Opacity'\n",
    "- Number of epochs: 12 epochs, around 1 hour per epoch on 1080ti GPU\n",
    "- Anchor size modification : Instead of using the mean output of anchor sizes, I used value at 20 percentile and reduced it even more proportionally to difference between 80 and 20 percentile between models."
   ]
  },
  {
   "cell_type": "markdown",
   "metadata": {},
   "source": [
    "## (D) Phillip Cheng : 3rd place solution\n",
    "https://www.kaggle.com/c/rsna-pneumonia-detection-challenge/discussion/70632 <br>\n",
    "code : https://github.com/pmcheng/rsna-pneumonia\n",
    "\n",
    "- optimized two RetinaNet models using Keras, with resnet-50 and resnet-101 -> mild boost to LB score\n",
    "- global fixed percentage size reduction to all final bounding boxes, which appeared to significantly improve Stage 1 test scores.\n",
    "- I think my single most important observation was that the bounding boxes from my models were systematically too large.I found that by reducing all bounding boxes by a fixed percentage (17% in each dimension), I improved my Stage 1 leaderboard score substantially.\n"
   ]
  },
  {
   "cell_type": "markdown",
   "metadata": {},
   "source": []
  },
  {
   "cell_type": "markdown",
   "metadata": {},
   "source": []
  }
 ],
 "metadata": {
  "kernelspec": {
   "display_name": "Python 3",
   "language": "python",
   "name": "python3"
  },
  "language_info": {
   "codemirror_mode": {
    "name": "ipython",
    "version": 3
   },
   "file_extension": ".py",
   "mimetype": "text/x-python",
   "name": "python",
   "nbconvert_exporter": "python",
   "pygments_lexer": "ipython3",
   "version": "3.8.3"
  },
  "toc": {
   "base_numbering": 1,
   "nav_menu": {},
   "number_sections": true,
   "sideBar": true,
   "skip_h1_title": false,
   "title_cell": "Table of Contents",
   "title_sidebar": "Contents",
   "toc_cell": false,
   "toc_position": {},
   "toc_section_display": true,
   "toc_window_display": false
  }
 },
 "nbformat": 4,
 "nbformat_minor": 4
}
